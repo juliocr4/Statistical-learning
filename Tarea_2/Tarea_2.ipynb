{
  "nbformat": 4,
  "nbformat_minor": 0,
  "metadata": {
    "colab": {
      "name": "Tarea_2.ipynb",
      "provenance": [],
      "collapsed_sections": []
    },
    "kernelspec": {
      "name": "python3",
      "display_name": "Python 3"
    },
    "language_info": {
      "name": "python"
    }
  },
  "cells": [
    {
      "cell_type": "code",
      "metadata": {
        "colab": {
          "base_uri": "https://localhost:8080/"
        },
        "id": "ciG05ADbqsks",
        "outputId": "8cc31d44-50fb-48ce-f5a4-e05affbc923e"
      },
      "source": [
        "import numpy as np\n",
        "import pandas as pd\n",
        "from sklearn.linear_model import LinearRegression\n",
        "from sklearn.model_selection import train_test_split\n",
        "import matplotlib.pyplot as plt\n",
        "%pylab inline"
      ],
      "execution_count": 1,
      "outputs": [
        {
          "output_type": "stream",
          "text": [
            "Populating the interactive namespace from numpy and matplotlib\n"
          ],
          "name": "stdout"
        }
      ]
    },
    {
      "cell_type": "code",
      "metadata": {
        "id": "jELYa5q5sRwH"
      },
      "source": [
        "params = np.zeros((1000,2))"
      ],
      "execution_count": 2,
      "outputs": []
    },
    {
      "cell_type": "code",
      "metadata": {
        "id": "Q4qp3ZSIq_VQ"
      },
      "source": [
        "for i in range(1000): \n",
        "  x = 2 * np.random.rand(100,1)\n",
        "  y = 4 + 3 * x + np.random.rand(100,1)\n",
        "  linear_model = LinearRegression()\n",
        "  linear_model.fit(x,y)\n",
        "  params[i] = [linear_model.coef_[0,0],linear_model.intercept_]"
      ],
      "execution_count": 3,
      "outputs": []
    },
    {
      "cell_type": "code",
      "metadata": {
        "id": "k-PNbOI8tNYS",
        "colab": {
          "base_uri": "https://localhost:8080/",
          "height": 203
        },
        "outputId": "38c07cb3-4dc6-42a2-f84c-336eb36d0685"
      },
      "source": [
        "df = pd.DataFrame({'slope' : params[:,0], 'intercept' : params[:,1]})\n",
        "df.head(5)"
      ],
      "execution_count": 4,
      "outputs": [
        {
          "output_type": "execute_result",
          "data": {
            "text/html": [
              "<div>\n",
              "<style scoped>\n",
              "    .dataframe tbody tr th:only-of-type {\n",
              "        vertical-align: middle;\n",
              "    }\n",
              "\n",
              "    .dataframe tbody tr th {\n",
              "        vertical-align: top;\n",
              "    }\n",
              "\n",
              "    .dataframe thead th {\n",
              "        text-align: right;\n",
              "    }\n",
              "</style>\n",
              "<table border=\"1\" class=\"dataframe\">\n",
              "  <thead>\n",
              "    <tr style=\"text-align: right;\">\n",
              "      <th></th>\n",
              "      <th>slope</th>\n",
              "      <th>intercept</th>\n",
              "    </tr>\n",
              "  </thead>\n",
              "  <tbody>\n",
              "    <tr>\n",
              "      <th>0</th>\n",
              "      <td>3.022140</td>\n",
              "      <td>4.539627</td>\n",
              "    </tr>\n",
              "    <tr>\n",
              "      <th>1</th>\n",
              "      <td>2.874089</td>\n",
              "      <td>4.630945</td>\n",
              "    </tr>\n",
              "    <tr>\n",
              "      <th>2</th>\n",
              "      <td>3.037839</td>\n",
              "      <td>4.507711</td>\n",
              "    </tr>\n",
              "    <tr>\n",
              "      <th>3</th>\n",
              "      <td>2.929877</td>\n",
              "      <td>4.567668</td>\n",
              "    </tr>\n",
              "    <tr>\n",
              "      <th>4</th>\n",
              "      <td>3.022547</td>\n",
              "      <td>4.492825</td>\n",
              "    </tr>\n",
              "  </tbody>\n",
              "</table>\n",
              "</div>"
            ],
            "text/plain": [
              "      slope  intercept\n",
              "0  3.022140   4.539627\n",
              "1  2.874089   4.630945\n",
              "2  3.037839   4.507711\n",
              "3  2.929877   4.567668\n",
              "4  3.022547   4.492825"
            ]
          },
          "metadata": {
            "tags": []
          },
          "execution_count": 4
        }
      ]
    },
    {
      "cell_type": "markdown",
      "metadata": {
        "id": "EAljHIfNxSA-"
      },
      "source": [
        "El promedio y la desviación estándar de los dos parámetros pendiente e intercepto después de 1000 ajustes es:"
      ]
    },
    {
      "cell_type": "code",
      "metadata": {
        "colab": {
          "base_uri": "https://localhost:8080/"
        },
        "id": "BCyDk7jmxN72",
        "outputId": "8a0e6f93-9bde-467c-e7b2-1eed9e05ec9e"
      },
      "source": [
        "print('Promedio: \\n', df.mean())\n",
        "print('\\nDesviación estándar: \\n', df.std())"
      ],
      "execution_count": 12,
      "outputs": [
        {
          "output_type": "stream",
          "text": [
            "Promedio: \n",
            " slope        2.998652\n",
            "intercept    4.500185\n",
            "dtype: float64\n",
            "\n",
            "Desviación estándar: \n",
            " slope        0.048543\n",
            "intercept    0.056381\n",
            "dtype: float64\n"
          ],
          "name": "stdout"
        }
      ]
    },
    {
      "cell_type": "code",
      "metadata": {
        "colab": {
          "base_uri": "https://localhost:8080/",
          "height": 295
        },
        "id": "xdWU8YXHOGoC",
        "outputId": "c5aec0ad-3f9d-43d2-b485-ff6ea3cfb0e6"
      },
      "source": [
        "df.describe()"
      ],
      "execution_count": 88,
      "outputs": [
        {
          "output_type": "execute_result",
          "data": {
            "text/html": [
              "<div>\n",
              "<style scoped>\n",
              "    .dataframe tbody tr th:only-of-type {\n",
              "        vertical-align: middle;\n",
              "    }\n",
              "\n",
              "    .dataframe tbody tr th {\n",
              "        vertical-align: top;\n",
              "    }\n",
              "\n",
              "    .dataframe thead th {\n",
              "        text-align: right;\n",
              "    }\n",
              "</style>\n",
              "<table border=\"1\" class=\"dataframe\">\n",
              "  <thead>\n",
              "    <tr style=\"text-align: right;\">\n",
              "      <th></th>\n",
              "      <th>slope</th>\n",
              "      <th>intercept</th>\n",
              "    </tr>\n",
              "  </thead>\n",
              "  <tbody>\n",
              "    <tr>\n",
              "      <th>count</th>\n",
              "      <td>1000.000000</td>\n",
              "      <td>1000.000000</td>\n",
              "    </tr>\n",
              "    <tr>\n",
              "      <th>mean</th>\n",
              "      <td>2.998652</td>\n",
              "      <td>4.500185</td>\n",
              "    </tr>\n",
              "    <tr>\n",
              "      <th>std</th>\n",
              "      <td>0.048543</td>\n",
              "      <td>0.056381</td>\n",
              "    </tr>\n",
              "    <tr>\n",
              "      <th>min</th>\n",
              "      <td>2.844333</td>\n",
              "      <td>4.331418</td>\n",
              "    </tr>\n",
              "    <tr>\n",
              "      <th>25%</th>\n",
              "      <td>2.966240</td>\n",
              "      <td>4.462039</td>\n",
              "    </tr>\n",
              "    <tr>\n",
              "      <th>50%</th>\n",
              "      <td>2.997743</td>\n",
              "      <td>4.500266</td>\n",
              "    </tr>\n",
              "    <tr>\n",
              "      <th>75%</th>\n",
              "      <td>3.031218</td>\n",
              "      <td>4.539269</td>\n",
              "    </tr>\n",
              "    <tr>\n",
              "      <th>max</th>\n",
              "      <td>3.147036</td>\n",
              "      <td>4.665275</td>\n",
              "    </tr>\n",
              "  </tbody>\n",
              "</table>\n",
              "</div>"
            ],
            "text/plain": [
              "             slope    intercept\n",
              "count  1000.000000  1000.000000\n",
              "mean      2.998652     4.500185\n",
              "std       0.048543     0.056381\n",
              "min       2.844333     4.331418\n",
              "25%       2.966240     4.462039\n",
              "50%       2.997743     4.500266\n",
              "75%       3.031218     4.539269\n",
              "max       3.147036     4.665275"
            ]
          },
          "metadata": {
            "tags": []
          },
          "execution_count": 88
        }
      ]
    },
    {
      "cell_type": "markdown",
      "metadata": {
        "id": "YFbd0TgVSw9z"
      },
      "source": [
        "Para facilitar el análisis escalemos los datos extrayendo la media y normalizando con la desviación estándar"
      ]
    },
    {
      "cell_type": "code",
      "metadata": {
        "id": "h4qE6UAsP5rt"
      },
      "source": [
        "df2 = (df - df.mean())/df.std()"
      ],
      "execution_count": 87,
      "outputs": []
    },
    {
      "cell_type": "code",
      "metadata": {
        "colab": {
          "base_uri": "https://localhost:8080/",
          "height": 516
        },
        "id": "To7A_3pAQlXx",
        "outputId": "049c526b-f9c1-4318-c715-b8546e510f55"
      },
      "source": [
        "q_slp = df2.slope.describe()[4:7]\n",
        "q_int = df2.intercept.describe()[4:7]\n",
        "iqr_slp = q_slp[-1] - q_slp[0]\n",
        "iqr_int = q_int[-1] - q_int[0]\n",
        "\n",
        "fig, axs = plt.subplots(1, 2, figsize=(20, 8))\n",
        "df2.slope.hist(bins=20, ax=axs[0], grid=True)\n",
        "df2.intercept.hist(bins=20, ax=axs[1], grid=True)\n",
        "axs[0].set_title('Slope')\n",
        "axs[1].set_title('Intercept')\n",
        "\n",
        "axs[0].vlines([q_slp.values], ymin = 0, ymax = 1,transform=axs[0].get_xaxis_transform(),  colors='r', linestyles='solid')\n",
        "axs[0].vlines([q_slp[0] - 1.5*iqr_slp, q_slp[-1] + 1.5*iqr_slp], ymin = 0, ymax = 1,transform=axs[0].get_xaxis_transform(),  colors='b', linestyles='solid')\n",
        "\n",
        "axs[1].vlines([q_int.values], ymin = 0, ymax = 1,transform=axs[1].get_xaxis_transform(),  colors='r', linestyles='solid')\n",
        "axs[1].vlines([q_int[0] - 1.5*iqr_int, q_int[-1] + 1.5*iqr_int], ymin = 0, ymax = 1,transform=axs[1].get_xaxis_transform(),  colors='b', linestyles='solid')"
      ],
      "execution_count": 95,
      "outputs": [
        {
          "output_type": "execute_result",
          "data": {
            "text/plain": [
              "<matplotlib.collections.LineCollection at 0x7fdfd5a5c6d0>"
            ]
          },
          "metadata": {
            "tags": []
          },
          "execution_count": 95
        },
        {
          "output_type": "display_data",
          "data": {
            "image/png": "[encoded data removed]",
            "text/plain": [
              "<Figure size 1440x576 with 2 Axes>"
            ]
          },
          "metadata": {
            "tags": [],
            "needs_background": "light"
          }
        }
      ]
    },
    {
      "cell_type": "markdown",
      "metadata": {
        "id": "ZSf6nzPjOSd5"
      },
      "source": [
        "Las líneas rojas representan de izquierda a derecha los cuartiles $Q_1, Q_2$ y $Q_3$ respectivamente y las líneas azules $Q_1 - 1.5\\times IQR$ y $Q_3+1.5\\times IQR$ "
      ]
    },
    {
      "cell_type": "code",
      "metadata": {
        "id": "cs6FsbfQy4YI",
        "colab": {
          "base_uri": "https://localhost:8080/",
          "height": 500
        },
        "outputId": "7f3915b1-c8bf-4e32-ac0a-74ea593de982"
      },
      "source": [
        "fig, axs = plt.subplots(1, 2, figsize=(16, 8))\n",
        "df2.boxplot('slope', ax=axs[0], grid=True)\n",
        "df2.boxplot('intercept', ax=axs[1], grid=True)"
      ],
      "execution_count": 96,
      "outputs": [
        {
          "output_type": "execute_result",
          "data": {
            "text/plain": [
              "<matplotlib.axes._subplots.AxesSubplot at 0x7fdfd596a890>"
            ]
          },
          "metadata": {
            "tags": []
          },
          "execution_count": 96
        },
        {
          "output_type": "display_data",
          "data": {
            "image/png": "[encoded data removed]",
            "text/plain": [
              "<Figure size 1152x576 with 2 Axes>"
            ]
          },
          "metadata": {
            "tags": [],
            "needs_background": "light"
          }
        }
      ]
    },
    {
      "cell_type": "markdown",
      "metadata": {
        "id": "FaK08hMvNnfj"
      },
      "source": [
        "El *np.random.rand* da número aleatorios entre [0,1) con igual probabilidad y por tanto el promedio de una muestra grande se acerca a *0.5*.\n",
        "\n",
        "$$\\overline{[0,1)} \\approx 0.5$$\n",
        "\n",
        "Entonces el promedio de la pendiente es:\n",
        "\n",
        "$$\\overline{6\\times[0,1)} = 6 \\times \\overline{[0,1)} \\approx 3$$\n",
        "\n",
        " y el promedio del intercepto es\n",
        " \n",
        " $$\\overline{4+[0,1)} = 4+\\overline{[0,1)} \\approx 4.5$$.\n",
        "\n",
        " Lo que concuerda con los dos resultados obtenidos para los valores promedio. Las desviaciones estándar podemos ver que son muy pequeñas respecto a la media\n",
        "  $(<3\\%)$ lo que hace que en ambos conjuntos de datos los valores no se alejen mucho del valor central. Podemos ver de ambos histogramas que los datos parecen seguir una distribución gaussiana bastante simétrica ya que la mediana ($Q_2$) está muy cerca del cero. El $IQR$ también es bajo y podemos ver que el más del $50\\%$ de los datos están a menos de $1\\sigma$ de distancia lo que muestra que los datos no están muy dispersos en ambos parámetros."
      ]
    },
    {
      "cell_type": "code",
      "metadata": {
        "id": "_1_UgnfzG9Ak"
      },
      "source": [
        ""
      ],
      "execution_count": null,
      "outputs": []
    }
  ]
}