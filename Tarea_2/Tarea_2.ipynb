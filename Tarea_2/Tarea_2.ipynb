{
  "nbformat": 4,
  "nbformat_minor": 0,
  "metadata": {
    "colab": {
      "name": "Tarea_2.ipynb",
      "provenance": [],
      "collapsed_sections": [],
      "authorship_tag": "ABX9TyOhD+PoQVAD5hViwVTPY6cZ",
      "include_colab_link": true
    },
    "kernelspec": {
      "name": "python3",
      "display_name": "Python 3"
    },
    "language_info": {
      "name": "python"
    }
  },
  "cells": [
    {
      "cell_type": "markdown",
      "metadata": {
        "id": "view-in-github",
        "colab_type": "text"
      },
      "source": [
        "<a href=\"https://colab.research.google.com/github/juliocr4/Statistical-learning/blob/main/Tarea_2.ipynb\" target=\"_parent\"><img src=\"https://colab.research.google.com/assets/colab-badge.svg\" alt=\"Open In Colab\"/></a>"
      ]
    },
    {
      "cell_type": "code",
      "metadata": {
        "colab": {
          "base_uri": "https://localhost:8080/"
        },
        "id": "ciG05ADbqsks",
        "outputId": "b058893a-2101-4517-9d88-29bcbdee8dc4"
      },
      "source": [
        "import numpy as np\n",
        "import pandas as pd\n",
        "from sklearn.linear_model import LinearRegression\n",
        "from sklearn.model_selection import train_test_split\n",
        "import matplotlib.pyplot as plt\n",
        "%pylab inline"
      ],
      "execution_count": null,
      "outputs": [
        {
          "output_type": "stream",
          "text": [
            "Populating the interactive namespace from numpy and matplotlib\n"
          ],
          "name": "stdout"
        }
      ]
    },
    {
      "cell_type": "code",
      "metadata": {
        "id": "jELYa5q5sRwH"
      },
      "source": [
        "params = np.zeros((1000,2))"
      ],
      "execution_count": 77,
      "outputs": []
    },
    {
      "cell_type": "code",
      "metadata": {
        "id": "Q4qp3ZSIq_VQ"
      },
      "source": [
        "for i in range(1000): \n",
        "  x = 2 * np.random.rand(100,1)\n",
        "  y = 4 + 3 * x + np.random.rand(100,1)\n",
        "  linear_model = LinearRegression()\n",
        "  linear_model.fit(x,y)\n",
        "  params[i] = [linear_model.coef_[0,0],linear_model.intercept_]"
      ],
      "execution_count": 187,
      "outputs": []
    },
    {
      "cell_type": "code",
      "metadata": {
        "id": "k-PNbOI8tNYS",
        "colab": {
          "base_uri": "https://localhost:8080/",
          "height": 203
        },
        "outputId": "22c6f07b-0b0a-4f0b-8cc8-4775fb2decf7"
      },
      "source": [
        "df = pd.DataFrame({'slope' : params[:,0], 'intercept' : params[:,1]})\n",
        "df.head(5)"
      ],
      "execution_count": 188,
      "outputs": [
        {
          "output_type": "execute_result",
          "data": {
            "text/html": [
              "<div>\n",
              "<style scoped>\n",
              "    .dataframe tbody tr th:only-of-type {\n",
              "        vertical-align: middle;\n",
              "    }\n",
              "\n",
              "    .dataframe tbody tr th {\n",
              "        vertical-align: top;\n",
              "    }\n",
              "\n",
              "    .dataframe thead th {\n",
              "        text-align: right;\n",
              "    }\n",
              "</style>\n",
              "<table border=\"1\" class=\"dataframe\">\n",
              "  <thead>\n",
              "    <tr style=\"text-align: right;\">\n",
              "      <th></th>\n",
              "      <th>slope</th>\n",
              "      <th>intercept</th>\n",
              "    </tr>\n",
              "  </thead>\n",
              "  <tbody>\n",
              "    <tr>\n",
              "      <th>0</th>\n",
              "      <td>2.971044</td>\n",
              "      <td>4.519979</td>\n",
              "    </tr>\n",
              "    <tr>\n",
              "      <th>1</th>\n",
              "      <td>3.050592</td>\n",
              "      <td>4.429976</td>\n",
              "    </tr>\n",
              "    <tr>\n",
              "      <th>2</th>\n",
              "      <td>3.001159</td>\n",
              "      <td>4.508538</td>\n",
              "    </tr>\n",
              "    <tr>\n",
              "      <th>3</th>\n",
              "      <td>2.936015</td>\n",
              "      <td>4.579033</td>\n",
              "    </tr>\n",
              "    <tr>\n",
              "      <th>4</th>\n",
              "      <td>2.945897</td>\n",
              "      <td>4.557024</td>\n",
              "    </tr>\n",
              "  </tbody>\n",
              "</table>\n",
              "</div>"
            ],
            "text/plain": [
              "      slope  intercept\n",
              "0  2.971044   4.519979\n",
              "1  3.050592   4.429976\n",
              "2  3.001159   4.508538\n",
              "3  2.936015   4.579033\n",
              "4  2.945897   4.557024"
            ]
          },
          "metadata": {
            "tags": []
          },
          "execution_count": 188
        }
      ]
    },
    {
      "cell_type": "markdown",
      "metadata": {
        "id": "EAljHIfNxSA-"
      },
      "source": [
        "El promedio y la desviación estándar de los dos parámetros pendiente e intercepto después de 1000 ajustes es:"
      ]
    },
    {
      "cell_type": "code",
      "metadata": {
        "colab": {
          "base_uri": "https://localhost:8080/"
        },
        "id": "BCyDk7jmxN72",
        "outputId": "99371eff-6a5a-485b-a591-4343d66e28e5"
      },
      "source": [
        "print('Promedio: \\n', df.mean())\n",
        "print('\\nDesviación estándar: \\n', df.std())"
      ],
      "execution_count": 189,
      "outputs": [
        {
          "output_type": "stream",
          "text": [
            "Promedio: \n",
            " slope        2.999827\n",
            "intercept    4.499634\n",
            "dtype: float64\n",
            "\n",
            "Desviación estándar: \n",
            " slope        0.049707\n",
            "intercept    0.057418\n",
            "dtype: float64\n"
          ],
          "name": "stdout"
        }
      ]
    },
    {
      "cell_type": "code",
      "metadata": {
        "colab": {
          "base_uri": "https://localhost:8080/",
          "height": 500
        },
        "id": "usTHuj2XxN2W",
        "outputId": "7ca508cf-3ba8-46ba-afc5-b51a97a05d86"
      },
      "source": [
        "fig, axs = plt.subplots(1, 2, figsize=(16, 8))\n",
        "df.slope.hist(bins=20, ax=axs[0], grid=True)\n",
        "df.intercept.hist(bins=20, ax=axs[1], grid=True)\n",
        "#plt.savefig(plts+'v203.jpg')"
      ],
      "execution_count": 190,
      "outputs": [
        {
          "output_type": "execute_result",
          "data": {
            "text/plain": [
              "<matplotlib.axes._subplots.AxesSubplot at 0x7f2de6ec6c90>"
            ]
          },
          "metadata": {
            "tags": []
          },
          "execution_count": 190
        },
        {
          "output_type": "display_data",
          "data": {
            "image/png": "[encoded data removed]",
            "text/plain": [
              "<Figure size 1152x576 with 2 Axes>"
            ]
          },
          "metadata": {
            "tags": [],
            "needs_background": "light"
          }
        }
      ]
    },
    {
      "cell_type": "code",
      "metadata": {
        "id": "cs6FsbfQy4YI",
        "colab": {
          "base_uri": "https://localhost:8080/",
          "height": 500
        },
        "outputId": "59689dc4-c35b-4c66-a309-847768f23cb2"
      },
      "source": [
        "fig, axs = plt.subplots(1, 2, figsize=(16, 8))\n",
        "df.boxplot('slope', ax=axs[0], grid=True)\n",
        "df.boxplot('intercept', ax=axs[1], grid=True)"
      ],
      "execution_count": 191,
      "outputs": [
        {
          "output_type": "execute_result",
          "data": {
            "text/plain": [
              "<matplotlib.axes._subplots.AxesSubplot at 0x7f2de6e6ba90>"
            ]
          },
          "metadata": {
            "tags": []
          },
          "execution_count": 191
        },
        {
          "output_type": "display_data",
          "data": {
            "image/png": "[encoded data removed]",
            "text/plain": [
              "<Figure size 1152x576 with 2 Axes>"
            ]
          },
          "metadata": {
            "tags": [],
            "needs_background": "light"
          }
        }
      ]
    },
    {
      "cell_type": "code",
      "metadata": {
        "colab": {
          "base_uri": "https://localhost:8080/",
          "height": 295
        },
        "id": "TleIrQxBPAvc",
        "outputId": "3fe7e9d1-d22b-459b-f117-cf57c2f88673"
      },
      "source": [
        "df.describe()"
      ],
      "execution_count": 192,
      "outputs": [
        {
          "output_type": "execute_result",
          "data": {
            "text/html": [
              "<div>\n",
              "<style scoped>\n",
              "    .dataframe tbody tr th:only-of-type {\n",
              "        vertical-align: middle;\n",
              "    }\n",
              "\n",
              "    .dataframe tbody tr th {\n",
              "        vertical-align: top;\n",
              "    }\n",
              "\n",
              "    .dataframe thead th {\n",
              "        text-align: right;\n",
              "    }\n",
              "</style>\n",
              "<table border=\"1\" class=\"dataframe\">\n",
              "  <thead>\n",
              "    <tr style=\"text-align: right;\">\n",
              "      <th></th>\n",
              "      <th>slope</th>\n",
              "      <th>intercept</th>\n",
              "    </tr>\n",
              "  </thead>\n",
              "  <tbody>\n",
              "    <tr>\n",
              "      <th>count</th>\n",
              "      <td>1000.000000</td>\n",
              "      <td>1000.000000</td>\n",
              "    </tr>\n",
              "    <tr>\n",
              "      <th>mean</th>\n",
              "      <td>2.999827</td>\n",
              "      <td>4.499634</td>\n",
              "    </tr>\n",
              "    <tr>\n",
              "      <th>std</th>\n",
              "      <td>0.049707</td>\n",
              "      <td>0.057418</td>\n",
              "    </tr>\n",
              "    <tr>\n",
              "      <th>min</th>\n",
              "      <td>2.838736</td>\n",
              "      <td>4.277488</td>\n",
              "    </tr>\n",
              "    <tr>\n",
              "      <th>25%</th>\n",
              "      <td>2.966821</td>\n",
              "      <td>4.461144</td>\n",
              "    </tr>\n",
              "    <tr>\n",
              "      <th>50%</th>\n",
              "      <td>3.000881</td>\n",
              "      <td>4.497655</td>\n",
              "    </tr>\n",
              "    <tr>\n",
              "      <th>75%</th>\n",
              "      <td>3.030632</td>\n",
              "      <td>4.537931</td>\n",
              "    </tr>\n",
              "    <tr>\n",
              "      <th>max</th>\n",
              "      <td>3.160726</td>\n",
              "      <td>4.671879</td>\n",
              "    </tr>\n",
              "  </tbody>\n",
              "</table>\n",
              "</div>"
            ],
            "text/plain": [
              "             slope    intercept\n",
              "count  1000.000000  1000.000000\n",
              "mean      2.999827     4.499634\n",
              "std       0.049707     0.057418\n",
              "min       2.838736     4.277488\n",
              "25%       2.966821     4.461144\n",
              "50%       3.000881     4.497655\n",
              "75%       3.030632     4.537931\n",
              "max       3.160726     4.671879"
            ]
          },
          "metadata": {
            "tags": []
          },
          "execution_count": 192
        }
      ]
    },
    {
      "cell_type": "markdown",
      "metadata": {
        "id": "FaK08hMvNnfj"
      },
      "source": [
        "El *np.random.rand* da número aleatorios entre [0,1) con igual probabilidad y por tanto el promedio de una muestra grande se acerca a *0.5*.\n",
        "\n",
        "$$\\overline{[0,1)} \\approx 0.5$$\n",
        "\n",
        "Entonces el promedio de la pendiente es:\n",
        "\n",
        "$$\\overline{6\\times[0,1)} = 6 \\times \\overline{[0,1)} \\approx 3$$\n",
        "\n",
        " y el promedio del intercepto es\n",
        " \n",
        " $$\\overline{4+[0,1)} = 4+\\overline{[0,1)} \\approx 4.5$$.\n",
        "\n",
        " Lo que concuerda con los dos resultados obtenidos para los valores promedio. Las desviaciones estándar podemos ver que son muy pequeñas respecto a la media\n",
        "  $(<3\\%)$ lo que hace que ambos conjuntos de datos estén poco esparcidos. Podemos ver de ambos histogramas que los datos parecen seguir una distribución gaussiana bastante simétrica ya que la mediana ($50\\%$ en el df.describe) está muy cerca de la media."
      ]
    },
    {
      "cell_type": "code",
      "metadata": {
        "id": "1I-j3qGpOLtr"
      },
      "source": [
        ""
      ],
      "execution_count": null,
      "outputs": []
    }
  ]
}